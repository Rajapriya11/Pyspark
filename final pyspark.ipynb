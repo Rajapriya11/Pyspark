{
 "cells": [
  {
   "cell_type": "code",
   "execution_count": 8,
   "id": "da520d13",
   "metadata": {},
   "outputs": [
    {
     "name": "stdout",
     "output_type": "stream",
     "text": [
      "Requirement already satisfied: pyspark in c:\\users\\rajap\\anaconda3\\lib\\site-packages (3.4.1)\n",
      "Requirement already satisfied: py4j==0.10.9.7 in c:\\users\\rajap\\anaconda3\\lib\\site-packages (from pyspark) (0.10.9.7)\n"
     ]
    }
   ],
   "source": [
    "!pip install pyspark"
   ]
  },
  {
   "cell_type": "code",
   "execution_count": 9,
   "id": "ed00b781",
   "metadata": {},
   "outputs": [],
   "source": [
    "import matplotlib.pyplot as plt\n",
    "import seaborn as sns\n",
    "import pandas as pd\n",
    "import os\n",
    "from pyspark.sql import SparkSession\n",
    "from pyspark.sql.functions import col, sum\n",
    "from pyspark.sql.functions import col,explode,array,lit\n",
    "from pyspark.sql.functions import when\n",
    "from pyspark.sql import SparkSession\n",
    "from pyspark.ml.stat import Correlation\n",
    "from pyspark.ml.feature import OneHotEncoder, StringIndexer, VectorAssembler, StandardScaler\n",
    "from pyspark.ml import Pipeline\n",
    "from pyspark.ml.classification import DecisionTreeClassifier\n",
    "from pyspark.ml.evaluation import MulticlassClassificationEvaluator\n",
    "from pyspark.ml.classification import RandomForestClassifier\n",
    "from pyspark.ml.classification import GBTClassifier\n",
    "from sklearn.metrics import confusion_matrix\n",
    "from pyspark.ml.tuning import ParamGridBuilder, CrossValidator\n",
    "from pyspark.ml.tuning import ParamGridBuilder, TrainValidationSplit\n",
    "from pyspark.ml.classification import LinearSVC\n",
    "\n",
    "from pyspark.ml.evaluation import BinaryClassificationEvaluator\n"
   ]
  },
  {
   "cell_type": "code",
   "execution_count": 10,
   "id": "e7c1be66",
   "metadata": {},
   "outputs": [
    {
     "name": "stdout",
     "output_type": "stream",
     "text": [
      "+---+------+---------------+----------------+--------------------+------------------------+--------------------------+--------------+-------+--------------------------+-------+\n",
      "|Age|Gender|Total_Bilirubin|Direct_Bilirubin|Alkaline_Phosphotase|Alamine_Aminotransferase|Aspartate_Aminotransferase|Total_Protiens|Albumin|Albumin_and_Globulin_Ratio|Dataset|\n",
      "+---+------+---------------+----------------+--------------------+------------------------+--------------------------+--------------+-------+--------------------------+-------+\n",
      "| 65|Female|            0.7|             0.1|                 187|                      16|                        18|           6.8|    3.3|                       0.9|      1|\n",
      "| 62|  Male|           10.9|             5.5|                 699|                      64|                       100|           7.5|    3.2|                      0.74|      1|\n",
      "| 62|  Male|            7.3|             4.1|                 490|                      60|                        68|           7.0|    3.3|                      0.89|      1|\n",
      "| 58|  Male|            1.0|             0.4|                 182|                      14|                        20|           6.8|    3.4|                       1.0|      1|\n",
      "| 72|  Male|            3.9|             2.0|                 195|                      27|                        59|           7.3|    2.4|                       0.4|      1|\n",
      "+---+------+---------------+----------------+--------------------+------------------------+--------------------------+--------------+-------+--------------------------+-------+\n",
      "only showing top 5 rows\n",
      "\n"
     ]
    }
   ],
   "source": [
    "import pyspark as ps\n",
    "spark = ps.sql.SparkSession.builder.master('local').appName('Classification').getOrCreate()\n",
    "from pyspark.sql import SparkSession\n",
    "# Read the csv file\n",
    "file= \"./indian-liver-patient-records/indian_liver_patient.csv\"\n",
    "liver_data = spark.read.csv(file, header=True, inferSchema=True)\n",
    "liver_data.show(5)"
   ]
  },
  {
   "cell_type": "code",
   "execution_count": 11,
   "id": "9fc89c57",
   "metadata": {},
   "outputs": [
    {
     "data": {
      "text/html": [
       "\n",
       "            <div>\n",
       "                <p><b>SparkSession - in-memory</b></p>\n",
       "                \n",
       "        <div>\n",
       "            <p><b>SparkContext</b></p>\n",
       "\n",
       "            <p><a href=\"http://Rajapriya.Home:4040\">Spark UI</a></p>\n",
       "\n",
       "            <dl>\n",
       "              <dt>Version</dt>\n",
       "                <dd><code>v3.3.2</code></dd>\n",
       "              <dt>Master</dt>\n",
       "                <dd><code>local</code></dd>\n",
       "              <dt>AppName</dt>\n",
       "                <dd><code>Classification</code></dd>\n",
       "            </dl>\n",
       "        </div>\n",
       "        \n",
       "            </div>\n",
       "        "
      ],
      "text/plain": [
       "<pyspark.sql.session.SparkSession at 0x2616baffa60>"
      ]
     },
     "execution_count": 11,
     "metadata": {},
     "output_type": "execute_result"
    }
   ],
   "source": [
    "spark"
   ]
  },
  {
   "cell_type": "code",
   "execution_count": 12,
   "id": "8654eda8",
   "metadata": {},
   "outputs": [
    {
     "name": "stdout",
     "output_type": "stream",
     "text": [
      "root\n",
      " |-- Age: integer (nullable = true)\n",
      " |-- Gender: string (nullable = true)\n",
      " |-- Total_Bilirubin: double (nullable = true)\n",
      " |-- Direct_Bilirubin: double (nullable = true)\n",
      " |-- Alkaline_Phosphotase: integer (nullable = true)\n",
      " |-- Alamine_Aminotransferase: integer (nullable = true)\n",
      " |-- Aspartate_Aminotransferase: integer (nullable = true)\n",
      " |-- Total_Protiens: double (nullable = true)\n",
      " |-- Albumin: double (nullable = true)\n",
      " |-- Albumin_and_Globulin_Ratio: double (nullable = true)\n",
      " |-- Dataset: integer (nullable = true)\n",
      "\n"
     ]
    }
   ],
   "source": [
    "liver_data.printSchema()"
   ]
  },
  {
   "cell_type": "code",
   "execution_count": 13,
   "id": "b8ff0985",
   "metadata": {},
   "outputs": [
    {
     "data": {
      "text/html": [
       "<div>\n",
       "<style scoped>\n",
       "    .dataframe tbody tr th:only-of-type {\n",
       "        vertical-align: middle;\n",
       "    }\n",
       "\n",
       "    .dataframe tbody tr th {\n",
       "        vertical-align: top;\n",
       "    }\n",
       "\n",
       "    .dataframe thead th {\n",
       "        text-align: right;\n",
       "    }\n",
       "</style>\n",
       "<table border=\"1\" class=\"dataframe\">\n",
       "  <thead>\n",
       "    <tr style=\"text-align: right;\">\n",
       "      <th></th>\n",
       "      <th>0</th>\n",
       "      <th>1</th>\n",
       "      <th>2</th>\n",
       "      <th>3</th>\n",
       "      <th>4</th>\n",
       "    </tr>\n",
       "  </thead>\n",
       "  <tbody>\n",
       "    <tr>\n",
       "      <th>summary</th>\n",
       "      <td>count</td>\n",
       "      <td>mean</td>\n",
       "      <td>stddev</td>\n",
       "      <td>min</td>\n",
       "      <td>max</td>\n",
       "    </tr>\n",
       "    <tr>\n",
       "      <th>Total_Bilirubin</th>\n",
       "      <td>583</td>\n",
       "      <td>3.298799313893652</td>\n",
       "      <td>6.209521726180151</td>\n",
       "      <td>0.4</td>\n",
       "      <td>75.0</td>\n",
       "    </tr>\n",
       "    <tr>\n",
       "      <th>Direct_Bilirubin</th>\n",
       "      <td>583</td>\n",
       "      <td>1.4861063464837074</td>\n",
       "      <td>2.808497617658965</td>\n",
       "      <td>0.1</td>\n",
       "      <td>19.7</td>\n",
       "    </tr>\n",
       "    <tr>\n",
       "      <th>Alkaline_Phosphotase</th>\n",
       "      <td>583</td>\n",
       "      <td>290.57632933104634</td>\n",
       "      <td>242.93798917934402</td>\n",
       "      <td>63</td>\n",
       "      <td>2110</td>\n",
       "    </tr>\n",
       "    <tr>\n",
       "      <th>Alamine_Aminotransferase</th>\n",
       "      <td>583</td>\n",
       "      <td>80.71355060034305</td>\n",
       "      <td>182.6203560342026</td>\n",
       "      <td>10</td>\n",
       "      <td>2000</td>\n",
       "    </tr>\n",
       "    <tr>\n",
       "      <th>Aspartate_Aminotransferase</th>\n",
       "      <td>583</td>\n",
       "      <td>109.91080617495712</td>\n",
       "      <td>288.9185290517341</td>\n",
       "      <td>10</td>\n",
       "      <td>4929</td>\n",
       "    </tr>\n",
       "    <tr>\n",
       "      <th>Total_Protiens</th>\n",
       "      <td>583</td>\n",
       "      <td>6.483190394511151</td>\n",
       "      <td>1.0854514840234648</td>\n",
       "      <td>2.7</td>\n",
       "      <td>9.6</td>\n",
       "    </tr>\n",
       "    <tr>\n",
       "      <th>Albumin</th>\n",
       "      <td>583</td>\n",
       "      <td>3.14185248713551</td>\n",
       "      <td>0.795518805964026</td>\n",
       "      <td>0.9</td>\n",
       "      <td>5.5</td>\n",
       "    </tr>\n",
       "    <tr>\n",
       "      <th>Albumin_and_Globulin_Ratio</th>\n",
       "      <td>579</td>\n",
       "      <td>0.9470639032815201</td>\n",
       "      <td>0.31959210767237056</td>\n",
       "      <td>0.3</td>\n",
       "      <td>2.8</td>\n",
       "    </tr>\n",
       "  </tbody>\n",
       "</table>\n",
       "</div>"
      ],
      "text/plain": [
       "                                0                   1                    2  \\\n",
       "summary                     count                mean               stddev   \n",
       "Total_Bilirubin               583   3.298799313893652    6.209521726180151   \n",
       "Direct_Bilirubin              583  1.4861063464837074    2.808497617658965   \n",
       "Alkaline_Phosphotase          583  290.57632933104634   242.93798917934402   \n",
       "Alamine_Aminotransferase      583   80.71355060034305    182.6203560342026   \n",
       "Aspartate_Aminotransferase    583  109.91080617495712    288.9185290517341   \n",
       "Total_Protiens                583   6.483190394511151   1.0854514840234648   \n",
       "Albumin                       583    3.14185248713551    0.795518805964026   \n",
       "Albumin_and_Globulin_Ratio    579  0.9470639032815201  0.31959210767237056   \n",
       "\n",
       "                              3     4  \n",
       "summary                     min   max  \n",
       "Total_Bilirubin             0.4  75.0  \n",
       "Direct_Bilirubin            0.1  19.7  \n",
       "Alkaline_Phosphotase         63  2110  \n",
       "Alamine_Aminotransferase     10  2000  \n",
       "Aspartate_Aminotransferase   10  4929  \n",
       "Total_Protiens              2.7   9.6  \n",
       "Albumin                     0.9   5.5  \n",
       "Albumin_and_Globulin_Ratio  0.3   2.8  "
      ]
     },
     "execution_count": 13,
     "metadata": {},
     "output_type": "execute_result"
    }
   ],
   "source": [
    "num_features = [t[0] for t in liver_data.dtypes if t[1] in ['int', 'double'] and t[0] not in ['Age', 'Dataset']]\n",
    "liver_data.select(num_features).describe().toPandas().transpose()"
   ]
  },
  {
   "cell_type": "code",
   "execution_count": 14,
   "id": "3b2560ad",
   "metadata": {},
   "outputs": [
    {
     "name": "stdout",
     "output_type": "stream",
     "text": [
      "+---+------+---------------+----------------+--------------------+------------------------+--------------------------+--------------+-------+--------------------------+-------+\n",
      "|Age|Gender|Total_Bilirubin|Direct_Bilirubin|Alkaline_Phosphotase|Alamine_Aminotransferase|Aspartate_Aminotransferase|Total_Protiens|Albumin|Albumin_and_Globulin_Ratio|Dataset|\n",
      "+---+------+---------------+----------------+--------------------+------------------------+--------------------------+--------------+-------+--------------------------+-------+\n",
      "|  0|     0|              0|               0|                   0|                       0|                         0|             0|      0|                         4|      0|\n",
      "+---+------+---------------+----------------+--------------------+------------------------+--------------------------+--------------+-------+--------------------------+-------+\n",
      "\n"
     ]
    }
   ],
   "source": [
    "#Calculate the missing values\n",
    "missing_values_count = liver_data.select([sum(col(c).isNull().cast(\"int\")).alias(c) for c in liver_data.columns])\n",
    "\n",
    "# Show the count of missing values\n",
    "missing_values_count.show()"
   ]
  },
  {
   "cell_type": "code",
   "execution_count": 15,
   "id": "494a5154",
   "metadata": {},
   "outputs": [],
   "source": [
    "# Load the CSV file into a DataFrame\n",
    "file = \"./indian-liver-patient-records/indian_liver_patient.csv\"\n",
    "df = pd.read_csv(file)\n",
    "\n",
    "# Fill missing values \n",
    "fill_value = 0.9470639032815201  # mean value\n",
    "df['Albumin_and_Globulin_Ratio'].fillna(fill_value, inplace=True)\n",
    "\n",
    "#Storing the updated column in a file\n",
    "dir_path = os.path.dirname(file)\n",
    "\n",
    "out_file_path = os.path.join(dir_path, \"indian_liver_patient_modified.csv\")\n",
    "\n",
    "os.makedirs(os.path.dirname(out_file_path), exist_ok=True)\n",
    "\n",
    "# Save the DataFrame to the CSV file\n",
    "df.to_csv(out_file_path, index=False)"
   ]
  },
  {
   "cell_type": "code",
   "execution_count": 16,
   "id": "5ce8cd25",
   "metadata": {},
   "outputs": [
    {
     "name": "stdout",
     "output_type": "stream",
     "text": [
      "Age                           0\n",
      "Gender                        0\n",
      "Total_Bilirubin               0\n",
      "Direct_Bilirubin              0\n",
      "Alkaline_Phosphotase          0\n",
      "Alamine_Aminotransferase      0\n",
      "Aspartate_Aminotransferase    0\n",
      "Total_Protiens                0\n",
      "Albumin                       0\n",
      "Albumin_and_Globulin_Ratio    0\n",
      "Dataset                       0\n",
      "dtype: int64\n"
     ]
    }
   ],
   "source": [
    "#print the missing values after imputation\n",
    "\n",
    "df = pd.read_csv(out_file_path)\n",
    "null_counts = df.isnull().sum()\n",
    "print(null_counts)"
   ]
  },
  {
   "cell_type": "code",
   "execution_count": 17,
   "id": "73dad642",
   "metadata": {},
   "outputs": [
    {
     "name": "stdout",
     "output_type": "stream",
     "text": [
      "+-------+-----+\n",
      "|Dataset|count|\n",
      "+-------+-----+\n",
      "|      1|  416|\n",
      "|      2|  167|\n",
      "+-------+-----+\n",
      "\n"
     ]
    }
   ],
   "source": [
    "liver_data.groupBy('Dataset').count().show()  #1---> disease 2---> no disease"
   ]
  },
  {
   "cell_type": "code",
   "execution_count": 18,
   "id": "3c237a6a",
   "metadata": {},
   "outputs": [
    {
     "data": {
      "image/png": "[encoded data removed]",
      "text/plain": [
       "<Figure size 400x200 with 1 Axes>"
      ]
     },
     "metadata": {},
     "output_type": "display_data"
    }
   ],
   "source": [
    "#Checking class balance of target column \"Dataset\"\n",
    "balance = liver_data.groupBy(\"Dataset\").count()\n",
    "# Convert into Pandas DataFrame for plotting\n",
    "balance_pd = balance.toPandas()\n",
    "# Plot class balance using Seaborn\n",
    "plt.figure(figsize=(4, 2))\n",
    "sns.barplot(data=balance_pd, x=\"Dataset\", y=\"count\")\n",
    "plt.title(\"Class Balance before sampling\")\n",
    "plt.xlabel(\"Dataset\")\n",
    "plt.ylabel(\"Count\")\n",
    "plt.show()"
   ]
  },
  {
   "cell_type": "code",
   "execution_count": 19,
   "id": "4cb691e0",
   "metadata": {},
   "outputs": [
    {
     "name": "stdout",
     "output_type": "stream",
     "text": [
      "ratio: 2\n",
      "+---+------+---------------+----------------+--------------------+------------------------+--------------------------+--------------+-------+--------------------------+-------+\n",
      "|Age|Gender|Total_Bilirubin|Direct_Bilirubin|Alkaline_Phosphotase|Alamine_Aminotransferase|Aspartate_Aminotransferase|Total_Protiens|Albumin|Albumin_and_Globulin_Ratio|Dataset|\n",
      "+---+------+---------------+----------------+--------------------+------------------------+--------------------------+--------------+-------+--------------------------+-------+\n",
      "| 65|Female|            0.7|             0.1|                 187|                      16|                        18|           6.8|    3.3|                       0.9|      1|\n",
      "| 62|  Male|           10.9|             5.5|                 699|                      64|                       100|           7.5|    3.2|                      0.74|      1|\n",
      "| 62|  Male|            7.3|             4.1|                 490|                      60|                        68|           7.0|    3.3|                      0.89|      1|\n",
      "| 58|  Male|            1.0|             0.4|                 182|                      14|                        20|           6.8|    3.4|                       1.0|      1|\n",
      "| 72|  Male|            3.9|             2.0|                 195|                      27|                        59|           7.3|    2.4|                       0.4|      1|\n",
      "| 46|  Male|            1.8|             0.7|                 208|                      19|                        14|           7.6|    4.4|                       1.3|      1|\n",
      "| 26|Female|            0.9|             0.2|                 154|                      16|                        12|           7.0|    3.5|                       1.0|      1|\n",
      "| 29|Female|            0.9|             0.3|                 202|                      14|                        11|           6.7|    3.6|                       1.1|      1|\n",
      "| 55|  Male|            0.7|             0.2|                 290|                      53|                        58|           6.8|    3.4|                       1.0|      1|\n",
      "| 57|  Male|            0.6|             0.1|                 210|                      51|                        59|           5.9|    2.7|                       0.8|      1|\n",
      "+---+------+---------------+----------------+--------------------+------------------------+--------------------------+--------------+-------+--------------------------+-------+\n",
      "only showing top 10 rows\n",
      "\n"
     ]
    }
   ],
   "source": [
    "#oversampling\n",
    "disease_df=liver_data.filter(col(\"Dataset\")==1)\n",
    "no_disease_df=liver_data.filter(col(\"Dataset\")==2)\n",
    "ratio = int(disease_df.count()/no_disease_df.count())\n",
    "print(\"ratio: {}\".format(ratio))\n",
    "m = range(ratio)# duplicate the minority rows\n",
    "oversampled_df = no_disease_df.withColumn(\"dummy\", explode(array([lit(x) for x in m]))).drop('dummy')\n",
    "# combine both oversampled minority rows and previous majority rows \n",
    "liver_data = disease_df.unionAll(oversampled_df)\n",
    "liver_data.show(10)"
   ]
  },
  {
   "cell_type": "code",
   "execution_count": 20,
   "id": "9a204ca5",
   "metadata": {},
   "outputs": [
    {
     "name": "stdout",
     "output_type": "stream",
     "text": [
      "+-------+-----+\n",
      "|Dataset|count|\n",
      "+-------+-----+\n",
      "|      1|  416|\n",
      "|      2|  334|\n",
      "+-------+-----+\n",
      "\n"
     ]
    }
   ],
   "source": [
    "#Count after oversampling\n",
    "liver_data.groupBy('Dataset').count().show()"
   ]
  },
  {
   "cell_type": "code",
   "execution_count": 81,
   "id": "1f7ff620",
   "metadata": {},
   "outputs": [
    {
     "data": {
      "image/png": "[encoded data removed]",
      "text/plain": [
       "<Figure size 400x200 with 1 Axes>"
      ]
     },
     "metadata": {},
     "output_type": "display_data"
    }
   ],
   "source": [
    "#Plot after after class balancing\n",
    "target = liver_data.groupBy(\"Dataset\").count()\n",
    "\n",
    "# Convert class balance to Pandas DataFrame for plotting\n",
    "target_pd = target.toPandas()\n",
    "\n",
    "# Plot class balance using Seaborn\n",
    "plt.figure(figsize=(4, 2))\n",
    "sns.barplot(data=target_pd, x=\"Dataset\", y=\"count\")\n",
    "plt.title(\"Class Balance after sampling\")\n",
    "plt.xlabel(\"Dataset\")\n",
    "plt.ylabel(\"Count\")\n",
    "plt.show()"
   ]
  },
  {
   "cell_type": "code",
   "execution_count": 58,
   "id": "9bde133b",
   "metadata": {},
   "outputs": [
    {
     "data": {
      "image/png": "[encoded data removed]",
      "text/plain": [
       "<Figure size 600x400 with 2 Axes>"
      ]
     },
     "metadata": {},
     "output_type": "display_data"
    }
   ],
   "source": [
    "#Correlation matrix\n",
    "# List all numeric columns except string and target columns\n",
    "exclude_columns = ['Dataset', 'Gender']  \n",
    "num_columns = [col for col in liver_data.columns if col not in exclude_columns]\n",
    "\n",
    "# Select only the numeric columns of interest\n",
    "liver_data_numeric = liver_data.select(*num_columns)\n",
    "\n",
    "# Assemble features into a vector column, handling null values\n",
    "assembler = VectorAssembler(inputCols=num_columns, outputCol=\"features\", handleInvalid=\"skip\")\n",
    "assembled_data = assembler.transform(liver_data)\n",
    "\n",
    "# Calculate the correlation matrix\n",
    "correlation_matrix = Correlation.corr(assembled_data, \"features\").collect()[0][0]\n",
    "\n",
    "# Convert correlation matrix to a Pandas DataFrame\n",
    "correlation_df = pd.DataFrame(correlation_matrix.toArray(), columns=num_columns, index=num_columns)\n",
    "\n",
    "# Plot the correlation heatmap using Seaborn\n",
    "plt.figure(figsize=(6, 4))\n",
    "sns.heatmap(correlation_df, annot=True, cmap='YlGnBu', center=0)\n",
    "plt.title(\"Correlation Heatmap\")\n",
    "plt.show()\n"
   ]
  },
  {
   "cell_type": "code",
   "execution_count": 59,
   "id": "0356f1c3",
   "metadata": {},
   "outputs": [
    {
     "name": "stdout",
     "output_type": "stream",
     "text": [
      "+-------+-----+\n",
      "|Dataset|count|\n",
      "+-------+-----+\n",
      "|      1|  416|\n",
      "|      0|  334|\n",
      "+-------+-----+\n",
      "\n"
     ]
    }
   ],
   "source": [
    "# Replace the values in the \"Dataset\" column\n",
    "liver_data = liver_data.withColumn(\"Dataset\", when(liver_data[\"Dataset\"] == 2, 0).otherwise(liver_data[\"Dataset\"]))\n",
    "\n",
    "liver_data.groupBy('Dataset').count().show()"
   ]
  },
  {
   "cell_type": "code",
   "execution_count": 60,
   "id": "12e4d2a8",
   "metadata": {},
   "outputs": [
    {
     "name": "stdout",
     "output_type": "stream",
     "text": [
      "+-------------------------------------------------+------+------------+-------------+\n",
      "|features                                         |Gender|Gender_Index|Gender_OneHot|\n",
      "+-------------------------------------------------+------+------------+-------------+\n",
      "|[65.0,0.7,0.1,187.0,16.0,18.0,6.8,3.3,0.9,0.0]   |Female|1.0         |(1,[],[])    |\n",
      "|[62.0,10.9,5.5,699.0,64.0,100.0,7.5,3.2,0.74,1.0]|Male  |0.0         |(1,[0],[1.0])|\n",
      "|[62.0,7.3,4.1,490.0,60.0,68.0,7.0,3.3,0.89,1.0]  |Male  |0.0         |(1,[0],[1.0])|\n",
      "|[58.0,1.0,0.4,182.0,14.0,20.0,6.8,3.4,1.0,1.0]   |Male  |0.0         |(1,[0],[1.0])|\n",
      "|[72.0,3.9,2.0,195.0,27.0,59.0,7.3,2.4,0.4,1.0]   |Male  |0.0         |(1,[0],[1.0])|\n",
      "|[46.0,1.8,0.7,208.0,19.0,14.0,7.6,4.4,1.3,1.0]   |Male  |0.0         |(1,[0],[1.0])|\n",
      "|[26.0,0.9,0.2,154.0,16.0,12.0,7.0,3.5,1.0,0.0]   |Female|1.0         |(1,[],[])    |\n",
      "|[29.0,0.9,0.3,202.0,14.0,11.0,6.7,3.6,1.1,0.0]   |Female|1.0         |(1,[],[])    |\n",
      "|[55.0,0.7,0.2,290.0,53.0,58.0,6.8,3.4,1.0,1.0]   |Male  |0.0         |(1,[0],[1.0])|\n",
      "|[57.0,0.6,0.1,210.0,51.0,59.0,5.9,2.7,0.8,1.0]   |Male  |0.0         |(1,[0],[1.0])|\n",
      "|[72.0,2.7,1.3,260.0,31.0,56.0,7.4,3.0,0.6,1.0]   |Male  |0.0         |(1,[0],[1.0])|\n",
      "|[74.0,1.1,0.4,214.0,22.0,30.0,8.1,4.1,1.0,0.0]   |Female|1.0         |(1,[],[])    |\n",
      "|[61.0,0.7,0.2,145.0,53.0,41.0,5.8,2.7,0.87,1.0]  |Male  |0.0         |(1,[0],[1.0])|\n",
      "|[38.0,1.8,0.8,342.0,168.0,441.0,7.6,4.4,1.3,1.0] |Male  |0.0         |(1,[0],[1.0])|\n",
      "|[40.0,0.9,0.3,293.0,232.0,245.0,6.8,3.1,0.8,0.0] |Female|1.0         |(1,[],[])    |\n",
      "|[40.0,0.9,0.3,293.0,232.0,245.0,6.8,3.1,0.8,0.0] |Female|1.0         |(1,[],[])    |\n",
      "|[51.0,2.2,1.0,610.0,17.0,28.0,7.3,2.6,0.55,1.0]  |Male  |0.0         |(1,[0],[1.0])|\n",
      "|[51.0,2.9,1.3,482.0,22.0,34.0,7.0,2.4,0.5,1.0]   |Male  |0.0         |(1,[0],[1.0])|\n",
      "|[62.0,6.8,3.0,542.0,116.0,66.0,6.4,3.1,0.9,1.0]  |Male  |0.0         |(1,[0],[1.0])|\n",
      "|[40.0,1.9,1.0,231.0,16.0,55.0,4.3,1.6,0.6,1.0]   |Male  |0.0         |(1,[0],[1.0])|\n",
      "+-------------------------------------------------+------+------------+-------------+\n",
      "only showing top 20 rows\n",
      "\n"
     ]
    }
   ],
   "source": [
    "#String indexing,Onehot encoding and Vector assembler\n",
    "\n",
    "# Replace the values in the \"Dataset\" column\n",
    "liver1_data = liver_data.withColumn(\"Dataset\", when(liver_data[\"Dataset\"] == 2, 0).otherwise(liver_data[\"Dataset\"]))\n",
    "\n",
    "# Numeric columns for standardization\n",
    "numeric_columns = ['Age', 'Total_Bilirubin', 'Direct_Bilirubin', 'Alkaline_Phosphotase', \n",
    "                   'Alamine_Aminotransferase', 'Aspartate_Aminotransferase', 'Total_Protiens',\n",
    "                   'Albumin', 'Albumin_and_Globulin_Ratio']\n",
    "\n",
    "# Check if the \"numeric_features\" column already exists\n",
    "if \"numeric_features\" in liver1_data.columns:\n",
    "    liver1_data = liver1_data.drop(\"numeric_features\")\n",
    "\n",
    "# Assemble the numeric features into a single vector column\n",
    "num_assembler = VectorAssembler(inputCols=numeric_columns, outputCol=\"numeric_features\")\n",
    "num_assembler.setHandleInvalid(\"keep\")\n",
    "liver2_data = num_assembler.transform(liver1_data)\n",
    "\n",
    "# Convert 'Gender' column into numerical indices\n",
    "gender_indexer = StringIndexer(inputCol=\"Gender\", outputCol=\"Gender_Index\")\n",
    "\n",
    "# Apply one-hot encoding to the indexed gender column\n",
    "gender_encoder = OneHotEncoder(inputCol=\"Gender_Index\", outputCol=\"Gender_OneHot\")\n",
    "\n",
    "# Assemble the features for model input\n",
    "input_columns = [\"numeric_features\", \"Gender_OneHot\"]\n",
    "feature_assembler = VectorAssembler(inputCols=input_columns, outputCol=\"features\")\n",
    "\n",
    "# Create a pipeline for gender indexing and one-hot encoding\n",
    "pipeline = Pipeline(stages=[gender_indexer, gender_encoder, feature_assembler])\n",
    "\n",
    "# Fit and transform the data using the pipeline\n",
    "processed_data = pipeline.fit(liver2_data).transform(liver2_data)\n",
    "\n",
    "# Show the assembled features\n",
    "processed_data.select(\"features\", \"Gender\", \"Gender_Index\",\"Gender_OneHot\").show(truncate=False)\n",
    "\n"
   ]
  },
  {
   "cell_type": "code",
   "execution_count": 61,
   "id": "1b0ae6fa",
   "metadata": {},
   "outputs": [
    {
     "name": "stdout",
     "output_type": "stream",
     "text": [
      "+-----------------------------------------------------------------------------------------------------------------------------------------------------------------------------+-------------------------------------------------------------------------------------------------------------------------------------------------------------------------+------+------------+-------------+\n",
      "|features                                                                                                                                                                     |scaled_numeric_features                                                                                                                                                  |Gender|Gender_Index|Gender_OneHot|\n",
      "+-----------------------------------------------------------------------------------------------------------------------------------------------------------------------------+-------------------------------------------------------------------------------------------------------------------------------------------------------------------------+------+------------+-------------+\n",
      "|[0.0,1.2804928684898005,-0.3805818059281008,-0.45218722308119974,-0.38830297624742166,-0.33355548430753246,-0.2977957765100313,0.280965563020537,0.14189211157315187,NaN]    |[1.2804928684898005,-0.3805818059281008,-0.45218722308119974,-0.38830297624742166,-0.33355548430753246,-0.2977957765100313,0.280965563020537,0.14189211157315187,NaN]    |Female|1.0         |(1,[],[])    |\n",
      "|[1.0,1.0978667938129463,1.4516716964947884,1.683258501590976,1.8758887006033869,-0.038344612169879444,0.021421281258726346,0.9290627536434761,0.01639790912048309,NaN]       |[1.0978667938129463,1.4516716964947884,1.683258501590976,1.8758887006033869,-0.038344612169879444,0.021421281258726346,0.9290627536434761,0.01639790912048309,NaN]       |Male  |0.0         |(1,[0],[1.0])|\n",
      "|[1.0,1.0978667938129463,0.8049939897572981,1.1296244248241156,0.9516385825138967,-0.06294551818135052,-0.10315122909005713,0.46613618891280545,0.14189211157315187,NaN]      |[1.0978667938129463,0.8049939897572981,1.1296244248241156,0.9516385825138967,-0.06294551818135052,-0.10315122909005713,0.46613618891280545,0.14189211157315187,NaN]      |Male  |0.0         |(1,[0],[1.0])|\n",
      "|[1.0,0.8543653609104741,-0.32669199703331003,-0.3335513494883011,-0.4104142230916678,-0.345855937313268,-0.29000999461323235,0.280965563020537,0.2673863140258212,NaN]       |[0.8543653609104741,-0.32669199703331003,-0.3335513494883011,-0.4104142230916678,-0.345855937313268,-0.29000999461323235,0.280965563020537,0.2673863140258212,NaN]       |Male  |0.0         |(1,[0],[1.0])|\n",
      "|[1.0,1.7066203760691268,0.19424282228300163,0.29917330967382505,-0.35292498129662775,-0.265902992775987,-0.1381872476256525,0.7438921277512077,-0.987555710500871,NaN]       |[1.7066203760691268,0.19424282228300163,0.29917330967382505,-0.35292498129662775,-0.265902992775987,-0.1381872476256525,0.7438921277512077,-0.987555710500871,NaN]       |Male  |0.0         |(1,[0],[1.0])|\n",
      "|[1.0,0.12386106220305751,-0.18298583998053436,-0.2149154758954025,-0.2954357395015877,-0.31510480479892916,-0.3133673403036292,1.02164806658961,1.522328338552514,NaN]       |[0.12386106220305751,-0.18298583998053436,-0.2149154758954025,-0.2954357395015877,-0.31510480479892916,-0.3133673403036292,1.02164806658961,1.522328338552514,NaN]       |Male  |0.0         |(1,[0],[1.0])|\n",
      "|[0.0,-1.0936461023093036,-0.344655266664907,-0.41264193188356696,-0.5342372054194464,-0.33355548430753246,-0.3211531222004282,0.46613618891280545,0.39288051647849054,NaN]   |[-1.0936461023093036,-0.344655266664907,-0.41264193188356696,-0.5342372054194464,-0.33355548430753246,-0.3211531222004282,0.46613618891280545,0.39288051647849054,NaN]   |Female|1.0         |(1,[],[])    |\n",
      "|[0.0,-0.9110200276324494,-0.344655266664907,-0.373096640685934,-0.3219692357146831,-0.345855937313268,-0.3250460131488277,0.1883802500744032,0.5183747189311598,NaN]         |[-0.9110200276324494,-0.344655266664907,-0.373096640685934,-0.3219692357146831,-0.345855937313268,-0.3250460131488277,0.1883802500744032,0.5183747189311598,NaN]         |Female|1.0         |(1,[],[])    |\n",
      "|[1.0,0.67173928623362,-0.3805818059281008,-0.41264193188356696,0.06718870874404961,-0.10599710370142493,-0.14208013857405197,0.280965563020537,0.2673863140258212,NaN]       |[0.67173928623362,-0.3805818059281008,-0.41264193188356696,0.06718870874404961,-0.10599710370142493,-0.14208013857405197,0.280965563020537,0.2673863140258212,NaN]       |Male  |0.0         |(1,[0],[1.0])|\n",
      "|[1.0,0.793490002684856,-0.3985450755596978,-0.45218722308119974,-0.28659124076388925,-0.11829755670716047,-0.1381872476256525,-0.5523022534946698,-0.611073103142863,NaN]    |[0.793490002684856,-0.3985450755596978,-0.45218722308119974,-0.28659124076388925,-0.11829755670716047,-0.1381872476256525,-0.5523022534946698,-0.611073103142863,NaN]    |Male  |0.0         |(1,[0],[1.0])|\n",
      "|[1.0,1.7066203760691268,-0.021316413296161765,0.022356271290394858,-0.06547877232142746,-0.2413020867645159,-0.14986592047085093,0.8364774406973423,-0.23459049578485558,NaN]|[1.7066203760691268,-0.021316413296161765,0.022356271290394858,-0.06547877232142746,-0.2413020867645159,-0.14986592047085093,0.8364774406973423,-0.23459049578485558,NaN]|Male  |0.0         |(1,[0],[1.0])|\n",
      "|[0.0,1.828371092520363,-0.30872872740171303,-0.3335513494883011,-0.26890224328849227,-0.29665412529032587,-0.2510810851292375,1.4845746313202806,1.1458457311945054,NaN]     |[1.828371092520363,-0.30872872740171303,-0.3335513494883011,-0.26890224328849227,-0.29665412529032587,-0.2510810851292375,1.4845746313202806,1.1458457311945054,NaN]     |Female|1.0         |(1,[],[])    |\n",
      "|[1.0,1.0369914355873282,-0.3805818059281008,-0.41264193188356696,-0.5740374497390895,-0.10599710370142493,-0.20825928469684318,-0.6448875664408044,-0.611073103142863,NaN]   |[1.0369914355873282,-0.3805818059281008,-0.41264193188356696,-0.5740374497390895,-0.10599710370142493,-0.20825928469684318,-0.6448875664408044,-0.611073103142863,NaN]   |Male  |0.0         |(1,[0],[1.0])|\n",
      "|[1.0,-0.3631418036018869,-0.18298583998053436,-0.17537018469776958,0.2971456759242099,0.6012789441283688,1.3488970946629502,1.02164806658961,1.522328338552514,NaN]          |[-0.3631418036018869,-0.18298583998053436,-0.17537018469776958,0.2971456759242099,0.6012789441283688,1.3488970946629502,1.02164806658961,1.522328338552514,NaN]          |Male  |0.0         |(1,[0],[1.0])|\n",
      "|[0.0,-0.2413910871506508,-0.344655266664907,-0.373096640685934,0.08045545685059732,0.9948934403119062,0.5858904687766514,0.280965563020537,-0.10909629333218625,NaN]         |[-0.2413910871506508,-0.344655266664907,-0.373096640685934,0.08045545685059732,0.9948934403119062,0.5858904687766514,0.280965563020537,-0.10909629333218625,NaN]         |Female|1.0         |(1,[],[])    |\n",
      "|[0.0,-0.2413910871506508,-0.344655266664907,-0.373096640685934,0.08045545685059732,0.9948934403119062,0.5858904687766514,0.280965563020537,-0.10909629333218625,NaN]         |[-0.2413910871506508,-0.344655266664907,-0.373096640685934,0.08045545685059732,0.9948934403119062,0.5858904687766514,0.280965563020537,-0.10909629333218625,NaN]         |Female|1.0         |(1,[],[])    |\n",
      "|[1.0,0.4282378533311478,-0.11113276145414654,-0.09627960230250382,1.482308506775805,-0.32740525780466473,-0.25886686702603645,0.7438921277512077,-0.7365673055955324,NaN]    |[0.4282378533311478,-0.11113276145414654,-0.09627960230250382,1.482308506775805,-0.32740525780466473,-0.25886686702603645,0.7438921277512077,-0.7365673055955324,NaN]    |Male  |0.0         |(1,[0],[1.0])|\n",
      "|[1.0,0.4282378533311478,0.014610125967032095,0.022356271290394858,0.9162605875631028,-0.29665412529032587,-0.23550952133563957,0.46613618891280545,-0.987555710500871,NaN]   |[0.4282378533311478,0.014610125967032095,0.022356271290394858,0.9162605875631028,-0.29665412529032587,-0.23550952133563957,0.46613618891280545,-0.987555710500871,NaN]   |Male  |0.0         |(1,[0],[1.0])|\n",
      "|[1.0,1.0978667938129463,0.7151776415993133,0.6946262216501539,1.181595549694057,0.2814671659792447,-0.11093701098685609,-0.08937568876399904,-0.10909629333218625,NaN]       |[1.0978667938129463,0.7151776415993133,0.6946262216501539,1.181595549694057,0.2814671659792447,-0.11093701098685609,-0.08937568876399904,-0.10909629333218625,NaN]       |Male  |0.0         |(1,[0],[1.0])|\n",
      "|[1.0,-0.2413910871506508,-0.16502257034893744,-0.09627960230250382,-0.19372400401805528,-0.33355548430753246,-0.1537588114192504,-2.0336672606328166,-1.9915093301222246,NaN]|[-0.2413910871506508,-0.16502257034893744,-0.09627960230250382,-0.19372400401805528,-0.33355548430753246,-0.1537588114192504,-2.0336672606328166,-1.9915093301222246,NaN]|Male  |0.0         |(1,[0],[1.0])|\n",
      "+-----------------------------------------------------------------------------------------------------------------------------------------------------------------------------+-------------------------------------------------------------------------------------------------------------------------------------------------------------------------+------+------------+-------------+\n",
      "only showing top 20 rows\n",
      "\n"
     ]
    }
   ],
   "source": [
    "#standard scaling\n",
    "\n",
    "# Assemble the features for model input\n",
    "input_columns = [\"Gender_OneHot\"]\n",
    "feature_assembler = VectorAssembler(inputCols=input_columns, outputCol=\"raw_features\", handleInvalid=\"keep\")\n",
    "\n",
    "# Create a pipeline for gender indexing and one-hot encoding\n",
    "preprocessing_pipeline = Pipeline(stages=[gender_indexer, gender_encoder, feature_assembler])\n",
    "\n",
    "# Fit and transform the data using the preprocessed pipeline\n",
    "processed_data = preprocessing_pipeline.fit(liver1_data).transform(liver1_data)\n",
    "\n",
    "# Separate pipeline for scaling the numeric features\n",
    "numeric_assembler = VectorAssembler(inputCols=numeric_columns, outputCol=\"numeric_features\", handleInvalid=\"keep\")\n",
    "scaler = StandardScaler(inputCol=\"numeric_features\", outputCol=\"scaled_numeric_features\", withStd=True, withMean=True)\n",
    "\n",
    "scaling_pipeline = Pipeline(stages=[numeric_assembler, scaler])\n",
    "\n",
    "# Fit and transform the data using the scaling pipeline\n",
    "scaled_data = scaling_pipeline.fit(processed_data).transform(processed_data)\n",
    "\n",
    "# Assemble the features for final model input\n",
    "final_input_columns = [\"raw_features\", \"scaled_numeric_features\"]\n",
    "final_feature_assembler = VectorAssembler(inputCols=final_input_columns, outputCol=\"features\")\n",
    "\n",
    "final_pipeline = Pipeline(stages=[final_feature_assembler])\n",
    "\n",
    "# Fit and transform the data using the final pipeline\n",
    "final_processed_data = final_pipeline.fit(scaled_data).transform(scaled_data)\n",
    "\n",
    "# Show the assembled features\n",
    "final_processed_data.select(\"features\", \"scaled_numeric_features\", \"Gender\", \"Gender_Index\", \"Gender_OneHot\").show(truncate=False)\n",
    "\n"
   ]
  },
  {
   "cell_type": "code",
   "execution_count": 62,
   "id": "fe65dae7",
   "metadata": {},
   "outputs": [
    {
     "name": "stdout",
     "output_type": "stream",
     "text": [
      "+---+------+---------------+----------------+--------------------+------------------------+--------------------------+--------------+-------+--------------------------+-------+------------+-------------+------------+--------------------+-----------------------+--------------------+\n",
      "|Age|Gender|Total_Bilirubin|Direct_Bilirubin|Alkaline_Phosphotase|Alamine_Aminotransferase|Aspartate_Aminotransferase|Total_Protiens|Albumin|Albumin_and_Globulin_Ratio|Dataset|Gender_Index|Gender_OneHot|raw_features|    numeric_features|scaled_numeric_features|            features|\n",
      "+---+------+---------------+----------------+--------------------+------------------------+--------------------------+--------------+-------+--------------------------+-------+------------+-------------+------------+--------------------+-----------------------+--------------------+\n",
      "| 65|Female|            0.7|             0.1|                 187|                      16|                        18|           6.8|    3.3|                       0.9|      1|         1.0|    (1,[],[])|       [0.0]|[65.0,0.7,0.1,187...|   [1.28049286848980...|[0.0,1.2804928684...|\n",
      "| 62|  Male|           10.9|             5.5|                 699|                      64|                       100|           7.5|    3.2|                      0.74|      1|         0.0|(1,[0],[1.0])|       [1.0]|[62.0,10.9,5.5,69...|   [1.09786679381294...|[1.0,1.0978667938...|\n",
      "| 62|  Male|            7.3|             4.1|                 490|                      60|                        68|           7.0|    3.3|                      0.89|      1|         0.0|(1,[0],[1.0])|       [1.0]|[62.0,7.3,4.1,490...|   [1.09786679381294...|[1.0,1.0978667938...|\n",
      "| 58|  Male|            1.0|             0.4|                 182|                      14|                        20|           6.8|    3.4|                       1.0|      1|         0.0|(1,[0],[1.0])|       [1.0]|[58.0,1.0,0.4,182...|   [0.85436536091047...|[1.0,0.8543653609...|\n",
      "| 72|  Male|            3.9|             2.0|                 195|                      27|                        59|           7.3|    2.4|                       0.4|      1|         0.0|(1,[0],[1.0])|       [1.0]|[72.0,3.9,2.0,195...|   [1.70662037606912...|[1.0,1.7066203760...|\n",
      "| 46|  Male|            1.8|             0.7|                 208|                      19|                        14|           7.6|    4.4|                       1.3|      1|         0.0|(1,[0],[1.0])|       [1.0]|[46.0,1.8,0.7,208...|   [0.12386106220305...|[1.0,0.1238610622...|\n",
      "| 26|Female|            0.9|             0.2|                 154|                      16|                        12|           7.0|    3.5|                       1.0|      1|         1.0|    (1,[],[])|       [0.0]|[26.0,0.9,0.2,154...|   [-1.0936461023093...|[0.0,-1.093646102...|\n",
      "| 29|Female|            0.9|             0.3|                 202|                      14|                        11|           6.7|    3.6|                       1.1|      1|         1.0|    (1,[],[])|       [0.0]|[29.0,0.9,0.3,202...|   [-0.9110200276324...|[0.0,-0.911020027...|\n",
      "| 55|  Male|            0.7|             0.2|                 290|                      53|                        58|           6.8|    3.4|                       1.0|      1|         0.0|(1,[0],[1.0])|       [1.0]|[55.0,0.7,0.2,290...|   [0.67173928623362...|[1.0,0.6717392862...|\n",
      "| 57|  Male|            0.6|             0.1|                 210|                      51|                        59|           5.9|    2.7|                       0.8|      1|         0.0|(1,[0],[1.0])|       [1.0]|[57.0,0.6,0.1,210...|   [0.79349000268485...|[1.0,0.7934900026...|\n",
      "| 72|  Male|            2.7|             1.3|                 260|                      31|                        56|           7.4|    3.0|                       0.6|      1|         0.0|(1,[0],[1.0])|       [1.0]|[72.0,2.7,1.3,260...|   [1.70662037606912...|[1.0,1.7066203760...|\n",
      "| 74|Female|            1.1|             0.4|                 214|                      22|                        30|           8.1|    4.1|                       1.0|      1|         1.0|    (1,[],[])|       [0.0]|[74.0,1.1,0.4,214...|   [1.82837109252036...|[0.0,1.8283710925...|\n",
      "| 61|  Male|            0.7|             0.2|                 145|                      53|                        41|           5.8|    2.7|                      0.87|      1|         0.0|(1,[0],[1.0])|       [1.0]|[61.0,0.7,0.2,145...|   [1.03699143558732...|[1.0,1.0369914355...|\n",
      "| 38|  Male|            1.8|             0.8|                 342|                     168|                       441|           7.6|    4.4|                       1.3|      1|         0.0|(1,[0],[1.0])|       [1.0]|[38.0,1.8,0.8,342...|   [-0.3631418036018...|[1.0,-0.363141803...|\n",
      "| 40|Female|            0.9|             0.3|                 293|                     232|                       245|           6.8|    3.1|                       0.8|      1|         1.0|    (1,[],[])|       [0.0]|[40.0,0.9,0.3,293...|   [-0.2413910871506...|[0.0,-0.241391087...|\n",
      "| 40|Female|            0.9|             0.3|                 293|                     232|                       245|           6.8|    3.1|                       0.8|      1|         1.0|    (1,[],[])|       [0.0]|[40.0,0.9,0.3,293...|   [-0.2413910871506...|[0.0,-0.241391087...|\n",
      "| 51|  Male|            2.2|             1.0|                 610|                      17|                        28|           7.3|    2.6|                      0.55|      1|         0.0|(1,[0],[1.0])|       [1.0]|[51.0,2.2,1.0,610...|   [0.42823785333114...|[1.0,0.4282378533...|\n",
      "| 51|  Male|            2.9|             1.3|                 482|                      22|                        34|           7.0|    2.4|                       0.5|      1|         0.0|(1,[0],[1.0])|       [1.0]|[51.0,2.9,1.3,482...|   [0.42823785333114...|[1.0,0.4282378533...|\n",
      "| 62|  Male|            6.8|             3.0|                 542|                     116|                        66|           6.4|    3.1|                       0.9|      1|         0.0|(1,[0],[1.0])|       [1.0]|[62.0,6.8,3.0,542...|   [1.09786679381294...|[1.0,1.0978667938...|\n",
      "| 40|  Male|            1.9|             1.0|                 231|                      16|                        55|           4.3|    1.6|                       0.6|      1|         0.0|(1,[0],[1.0])|       [1.0]|[40.0,1.9,1.0,231...|   [-0.2413910871506...|[1.0,-0.241391087...|\n",
      "+---+------+---------------+----------------+--------------------+------------------------+--------------------------+--------------+-------+--------------------------+-------+------------+-------------+------------+--------------------+-----------------------+--------------------+\n",
      "only showing top 20 rows\n",
      "\n"
     ]
    }
   ],
   "source": [
    "final_processed_data.show(20)"
   ]
  },
  {
   "cell_type": "code",
   "execution_count": 63,
   "id": "8833be32",
   "metadata": {},
   "outputs": [
    {
     "name": "stdout",
     "output_type": "stream",
     "text": [
      "+-------+--------------------+\n",
      "|Dataset|            features|\n",
      "+-------+--------------------+\n",
      "|      1|[0.0,1.2804928684...|\n",
      "|      1|[1.0,1.0978667938...|\n",
      "|      1|[1.0,1.0978667938...|\n",
      "|      1|[1.0,0.8543653609...|\n",
      "|      1|[1.0,1.7066203760...|\n",
      "+-------+--------------------+\n",
      "only showing top 5 rows\n",
      "\n"
     ]
    }
   ],
   "source": [
    "final_data=final_processed_data.drop('Age', 'Total_Bilirubin', 'Direct_Bilirubin', 'Alkaline_Phosphotase', \n",
    "                   'Alamine_Aminotransferase', 'Aspartate_Aminotransferase', 'Total_Protiens',\n",
    "                   'Albumin', 'Albumin_and_Globulin_Ratio','numeric_features','Gender_index','Gender_OneHot','Gender','raw_features','scaled_numeric_features')\n",
    "final_data.show(5)"
   ]
  },
  {
   "cell_type": "code",
   "execution_count": 64,
   "id": "1debfbe8",
   "metadata": {},
   "outputs": [
    {
     "name": "stdout",
     "output_type": "stream",
     "text": [
      "+-------+\n",
      "|Dataset|\n",
      "+-------+\n",
      "|      1|\n",
      "|      0|\n",
      "+-------+\n",
      "\n"
     ]
    }
   ],
   "source": [
    "final_data.select(\"Dataset\").distinct().show()"
   ]
  },
  {
   "cell_type": "code",
   "execution_count": 65,
   "id": "b24c1812",
   "metadata": {},
   "outputs": [],
   "source": [
    "# Split data into training and test datasets\n",
    "trainDataset, testDataset = final_data.randomSplit([0.7, 0.3], seed=123)"
   ]
  },
  {
   "cell_type": "markdown",
   "id": "ac12b945",
   "metadata": {},
   "source": [
    "Decision tree"
   ]
  },
  {
   "cell_type": "code",
   "execution_count": 39,
   "id": "b313faa1",
   "metadata": {},
   "outputs": [
    {
     "name": "stdout",
     "output_type": "stream",
     "text": [
      "DT_Accuracy : 0.9724770642201835\n",
      "Weighted Precision: 0.9732823231563643\n",
      "Weighted Recall: 0.9724770642201834\n",
      "F1 Score: 0.9725479022498158\n",
      "Confusion Matrix:\n",
      "[[ 91   1]\n",
      " [  5 121]]\n",
      "ROC AUC: 0.9554002760524498\n"
     ]
    }
   ],
   "source": [
    "# Create a Decision Tree classifier\n",
    "dt_classifier = DecisionTreeClassifier(labelCol=\"Dataset\", featuresCol=\"features\")\n",
    "\n",
    "# Define a grid of hyperparameters to search through\n",
    "param_grid = ParamGridBuilder() \\\n",
    "    .addGrid(dt_classifier.maxDepth, [5, 10, 15]) \\\n",
    "    .addGrid(dt_classifier.maxBins, [16, 32, 64]) \\\n",
    "    .build()\n",
    "\n",
    "# Creating a CrossValidator with the Decision Tree classifier\n",
    "crossval = CrossValidator(estimator=dt_classifier,\n",
    "                          estimatorParamMaps=param_grid,\n",
    "                          evaluator=MulticlassClassificationEvaluator(labelCol=\"Dataset\", predictionCol=\"prediction\", metricName=\"accuracy\"),\n",
    "                          numFolds=5) \n",
    "\n",
    "# Perform cross-validation and choose the best set of parameters\n",
    "cv_model = crossval.fit(final_data) \n",
    "\n",
    "best_model = cv_model.bestModel\n",
    "\n",
    "# Evaluate the best model on test data\n",
    "test_pred = best_model.transform(testDataset) \n",
    "evaluator = MulticlassClassificationEvaluator(labelCol=\"Dataset\", predictionCol=\"prediction\", metricName=\"accuracy\")\n",
    "accuracy = evaluator.evaluate(test_pred)\n",
    "print(\"DT_Accuracy :\", accuracy)\n",
    "\n",
    "# Show both the predicted values and the actual values\n",
    "test_pred.select(\"prediction\", \"Dataset\")\n",
    "\n",
    "# printing the evaluation metrices\n",
    "evaluator = MulticlassClassificationEvaluator(labelCol=\"Dataset\", predictionCol=\"prediction\", metricName=\"weightedPrecision\")\n",
    "weighted_precision = evaluator.evaluate(test_pred)\n",
    "print(\"Weighted Precision:\", weighted_precision)\n",
    "\n",
    "evaluator = MulticlassClassificationEvaluator(labelCol=\"Dataset\", predictionCol=\"prediction\", metricName=\"weightedRecall\")\n",
    "weighted_recall = evaluator.evaluate(test_pred)\n",
    "print(\"Weighted Recall:\", weighted_recall)\n",
    "\n",
    "evaluator = MulticlassClassificationEvaluator(labelCol=\"Dataset\", predictionCol=\"prediction\", metricName=\"f1\")\n",
    "f1_score = evaluator.evaluate(test_pred)\n",
    "print(\"F1 Score:\", f1_score)\n",
    "\n",
    "# get predictions and actual labels\n",
    "results = test_pred.select(['prediction', 'Dataset']).collect()\n",
    "predictions = [int(row.prediction) for row in results]\n",
    "labels = [int(row.Dataset) for row in results]\n",
    "\n",
    "# Create a confusion matrix\n",
    "confusion = confusion_matrix(labels, predictions)\n",
    "\n",
    "# Print the confusion matrix\n",
    "print(\"Confusion Matrix:\")\n",
    "print(confusion)\n",
    "\n",
    "# Add BinaryClassificationEvaluator for ROC AUC\n",
    "binary_evaluator = BinaryClassificationEvaluator(labelCol=\"Dataset\", rawPredictionCol=\"rawPrediction\", metricName=\"areaUnderROC\")\n",
    "roc_auc = binary_evaluator.evaluate(test_pred)\n",
    "print(\"ROC AUC:\", roc_auc)"
   ]
  },
  {
   "cell_type": "markdown",
   "id": "321865b7",
   "metadata": {},
   "source": [
    "Random Forest"
   ]
  },
  {
   "cell_type": "code",
   "execution_count": 66,
   "id": "1dbd86f4",
   "metadata": {},
   "outputs": [
    {
     "name": "stdout",
     "output_type": "stream",
     "text": [
      "RF_Accuracy: 0.9908256880733946\n",
      "Weighted Precision: 0.9910208861994925\n",
      "Weighted Recall: 0.9908256880733946\n",
      "F1 Score: 0.990838315083358\n",
      "Confusion Matrix:\n",
      "[[ 92   0]\n",
      " [  2 124]]\n",
      "ROC AUC: 0.9998274672187715\n"
     ]
    }
   ],
   "source": [
    "# Create a RandomForest classifier with hyper parameter tuning\n",
    "rf_classifier = RandomForestClassifier(labelCol=\"Dataset\", featuresCol=\"features\", numTrees=10)\n",
    "# Define a grid of hyperparameters\n",
    "param_grid = ParamGridBuilder() \\\n",
    "    .addGrid(rf_classifier.maxDepth, [5, 10, 15]) \\\n",
    "    .addGrid(rf_classifier.minInstancesPerNode, [1, 5, 10]) \\\n",
    "    .build()\n",
    "# Create a CrossValidator with the RandomForest classifier\n",
    "crossval = CrossValidator(estimator=rf_classifier,\n",
    "                          estimatorParamMaps=param_grid,\n",
    "                          evaluator=MulticlassClassificationEvaluator(labelCol=\"Dataset\", predictionCol=\"prediction\", metricName=\"accuracy\"),\n",
    "                          numFolds=7) \n",
    "# Perform cross-validation and choose the best set of parameters\n",
    "cv_model = crossval.fit(final_data) \n",
    "# Get the best model from cross-validation\n",
    "best_model = cv_model.bestModel\n",
    "# Evaluate the best model on test data\n",
    "test_pred = best_model.transform(testDataset)\n",
    "evaluator = MulticlassClassificationEvaluator(labelCol=\"Dataset\", predictionCol=\"prediction\", metricName=\"accuracy\")\n",
    "accuracy = evaluator.evaluate(test_pred)\n",
    "print(\"RF_Accuracy:\", accuracy)\n",
    "# printing the evaluation metrices\n",
    "evaluator = MulticlassClassificationEvaluator(labelCol=\"Dataset\", predictionCol=\"prediction\", metricName=\"weightedPrecision\")\n",
    "weighted_precision = evaluator.evaluate(test_pred)\n",
    "print(\"Weighted Precision:\", weighted_precision)\n",
    "evaluator = MulticlassClassificationEvaluator(labelCol=\"Dataset\", predictionCol=\"prediction\", metricName=\"weightedRecall\")\n",
    "weighted_recall = evaluator.evaluate(test_pred)\n",
    "print(\"Weighted Recall:\", weighted_recall)\n",
    "evaluator = MulticlassClassificationEvaluator(labelCol=\"Dataset\", predictionCol=\"prediction\", metricName=\"f1\")\n",
    "f1_score = evaluator.evaluate(test_pred)\n",
    "print(\"F1 Score:\", f1_score)\n",
    "# get predictions and actual labels\n",
    "results = test_pred.select(['prediction', 'Dataset']).collect()\n",
    "predictions = [int(row.prediction) for row in results]\n",
    "labels = [int(row.Dataset) for row in results]\n",
    "# Create a confusion matrix\n",
    "confusion = confusion_matrix(labels, predictions)\n",
    "# Print the confusion matrix\n",
    "print(\"Confusion Matrix:\")\n",
    "print(confusion)\n",
    "\n",
    "# Add BinaryClassificationEvaluator for ROC AUC\n",
    "binary_evaluator = BinaryClassificationEvaluator(labelCol=\"Dataset\", rawPredictionCol=\"rawPrediction\", metricName=\"areaUnderROC\")\n",
    "roc_auc = binary_evaluator.evaluate(test_pred)\n",
    "print(\"ROC AUC:\", roc_auc)\n"
   ]
  },
  {
   "cell_type": "markdown",
   "id": "45ff02a1",
   "metadata": {},
   "source": [
    "GBT"
   ]
  },
  {
   "cell_type": "code",
   "execution_count": 41,
   "id": "41df359c",
   "metadata": {},
   "outputs": [
    {
     "name": "stdout",
     "output_type": "stream",
     "text": [
      "GBT_accuracy: 0.7752293577981652\n",
      "Weighted Precision: 0.8043918197998488\n",
      "Weighted Recall: 0.7752293577981652\n",
      "F1 Score: 0.7759155142039686\n",
      "Confusion Matrix:\n",
      "[[82 10]\n",
      " [39 87]]\n",
      "ROC AUC: 0.8559351276742587\n"
     ]
    }
   ],
   "source": [
    "\n",
    "# GBTClassifier with tuning\n",
    "gbt_classifier = GBTClassifier(labelCol=\"Dataset\", featuresCol=\"features\")\n",
    "\n",
    "# Define a parameter grid for hyperparameter tuning\n",
    "param_grid = ParamGridBuilder() \\\n",
    "    .addGrid(gbt_classifier.maxDepth, [5, 10, 15]) \\\n",
    "    .addGrid(gbt_classifier.maxBins, [16, 32, 64]) \\\n",
    "    .addGrid(gbt_classifier.maxIter, [10, 20, 30]) \\\n",
    "    .build()\n",
    "\n",
    "# Create a TrainValidationSplit\n",
    "evaluator = MulticlassClassificationEvaluator(labelCol=\"Dataset\", predictionCol=\"prediction\", metricName=\"accuracy\")\n",
    "split = TrainValidationSplit(estimator=gbt_classifier, estimatorParamMaps=param_grid, evaluator=evaluator, trainRatio=0.7)\n",
    "\n",
    "# Fit the TrainValidationSplit to the training data\n",
    "split_model = split.fit(trainDataset)\n",
    "\n",
    "# Make predictions on the test data using the best model from TrainValidationSplit\n",
    "best_model = split_model.bestModel\n",
    "test_pred = best_model.transform(testDataset)\n",
    "\n",
    "# Evaluate the model\n",
    "accuracy = evaluator.evaluate(test_pred)\n",
    "print(\"GBT_accuracy:\", accuracy)\n",
    "\n",
    "# Printing the evaluation metrics\n",
    "evaluator = MulticlassClassificationEvaluator(labelCol=\"Dataset\", predictionCol=\"prediction\", metricName=\"weightedPrecision\")\n",
    "weighted_precision = evaluator.evaluate(test_pred)\n",
    "print(\"Weighted Precision:\", weighted_precision)\n",
    "\n",
    "evaluator = MulticlassClassificationEvaluator(labelCol=\"Dataset\", predictionCol=\"prediction\", metricName=\"weightedRecall\")\n",
    "weighted_recall = evaluator.evaluate(test_pred)\n",
    "print(\"Weighted Recall:\", weighted_recall)\n",
    "\n",
    "evaluator = MulticlassClassificationEvaluator(labelCol=\"Dataset\", predictionCol=\"prediction\", metricName=\"f1\")\n",
    "f1_score = evaluator.evaluate(test_pred)\n",
    "print(\"F1 Score:\", f1_score)\n",
    "\n",
    "# Get predictions and actual labels\n",
    "results = test_pred.select(['prediction', 'Dataset']).collect()\n",
    "predictions = [int(row.prediction) for row in results]\n",
    "labels = [int(row.Dataset) for row in results]\n",
    "\n",
    "# Create a confusion matrix\n",
    "confusion = confusion_matrix(labels, predictions)\n",
    "\n",
    "# Print the confusion matrix\n",
    "print(\"Confusion Matrix:\")\n",
    "print(confusion)\n",
    "\n",
    "# Add BinaryClassificationEvaluator for ROC AUC\n",
    "binary_evaluator = BinaryClassificationEvaluator(labelCol=\"Dataset\", rawPredictionCol=\"rawPrediction\", metricName=\"areaUnderROC\")\n",
    "roc_auc = binary_evaluator.evaluate(test_pred)\n",
    "print(\"ROC AUC:\", roc_auc)\n"
   ]
  },
  {
   "cell_type": "markdown",
   "id": "16116321",
   "metadata": {},
   "source": [
    "SVM"
   ]
  },
  {
   "cell_type": "code",
   "execution_count": 42,
   "id": "ecc99134",
   "metadata": {},
   "outputs": [
    {
     "name": "stdout",
     "output_type": "stream",
     "text": [
      "SVM_Accuracy: 0.42201834862385323\n",
      "Weighted Precision: 0.1780994865752041\n",
      "Weighted Recall: 0.42201834862385323\n",
      "F1 Score: 0.2504883101509322\n",
      "Confusion Matrix:\n",
      "[[ 92   0]\n",
      " [126   0]]\n",
      "ROC AUC: 0.5\n"
     ]
    }
   ],
   "source": [
    "\n",
    "# Create an SVM classifier\n",
    "svm_classifier = LinearSVC(labelCol=\"Dataset\", featuresCol=\"features\")\n",
    "\n",
    "# Create a ParamGrid for hyperparameter tuning\n",
    "param_grid = ParamGridBuilder() \\\n",
    "    .addGrid(svm_classifier.regParam, [0.01, 0.1, 1.0]) \\\n",
    "    .addGrid(svm_classifier.maxIter, [5, 10, 20]) \\\n",
    "    .build()\n",
    "\n",
    "# Create a CrossValidator with evaluator and param grid\n",
    "evaluator = MulticlassClassificationEvaluator(labelCol=\"Dataset\", predictionCol=\"prediction\", metricName=\"accuracy\")\n",
    "cross_validator = CrossValidator(estimator=svm_classifier, estimatorParamMaps=param_grid, evaluator=evaluator, numFolds=9)\n",
    "\n",
    "# Fit the CrossValidator to the training data\n",
    "cv_model = cross_validator.fit(trainDataset)\n",
    "\n",
    "# Get the best model from cross validation\n",
    "best_model = cv_model.bestModel\n",
    "\n",
    "# Make predictions on the test data using the best model\n",
    "test_pred = best_model.transform(testDataset)\n",
    "\n",
    "# Evaluate the model\n",
    "accuracy = evaluator.evaluate(test_pred)\n",
    "print(\"SVM_Accuracy:\", accuracy)\n",
    "\n",
    "# Print the evaluation metrics\n",
    "evaluator = MulticlassClassificationEvaluator(labelCol=\"Dataset\", predictionCol=\"prediction\", metricName=\"weightedPrecision\")\n",
    "weighted_precision = evaluator.evaluate(test_pred)\n",
    "print(\"Weighted Precision:\", weighted_precision)\n",
    "\n",
    "evaluator = MulticlassClassificationEvaluator(labelCol=\"Dataset\", predictionCol=\"prediction\", metricName=\"weightedRecall\")\n",
    "weighted_recall = evaluator.evaluate(test_pred)\n",
    "print(\"Weighted Recall:\", weighted_recall)\n",
    "\n",
    "evaluator = MulticlassClassificationEvaluator(labelCol=\"Dataset\", predictionCol=\"prediction\", metricName=\"f1\")\n",
    "f1_score = evaluator.evaluate(test_pred)\n",
    "print(\"F1 Score:\", f1_score)\n",
    "\n",
    "# Get predictions and actual labels\n",
    "results = test_pred.select(['prediction', 'Dataset']).collect()\n",
    "predictions = [int(row.prediction) for row in results]\n",
    "labels = [int(row.Dataset) for row in results]\n",
    "\n",
    "# Create a confusion matrix\n",
    "confusion = confusion_matrix(labels, predictions)\n",
    "\n",
    "# Print the confusion matrix\n",
    "print(\"Confusion Matrix:\")\n",
    "print(confusion)\n",
    "\n",
    "# Add BinaryClassificationEvaluator for ROC AUC\n",
    "binary_evaluator = BinaryClassificationEvaluator(labelCol=\"Dataset\", rawPredictionCol=\"rawPrediction\", metricName=\"areaUnderROC\")\n",
    "roc_auc = binary_evaluator.evaluate(test_pred)\n",
    "print(\"ROC AUC:\", roc_auc)\n",
    "\n",
    "# Stop the Spark session\n",
    "spark.stop()\n"
   ]
  },
  {
   "cell_type": "code",
   "execution_count": null,
   "id": "a1bab3a1",
   "metadata": {},
   "outputs": [],
   "source": []
  }
 ],
 "metadata": {
  "kernelspec": {
   "display_name": "Python 3 (ipykernel)",
   "language": "python",
   "name": "python3"
  },
  "language_info": {
   "codemirror_mode": {
    "name": "ipython",
    "version": 3
   },
   "file_extension": ".py",
   "mimetype": "text/x-python",
   "name": "python",
   "nbconvert_exporter": "python",
   "pygments_lexer": "ipython3",
   "version": "3.11.4"
  }
 },
 "nbformat": 4,
 "nbformat_minor": 5
}
